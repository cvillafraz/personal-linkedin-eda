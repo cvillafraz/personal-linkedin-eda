{
 "cells": [
  {
   "cell_type": "markdown",
   "metadata": {
    "cell_id": "00001-25c74067-c54e-4a7c-981e-e516b89efe26",
    "deepnote_cell_type": "markdown",
    "tags": []
   },
   "source": [
    "# Read and process LinkedIn data\n"
   ]
  },
  {
   "cell_type": "code",
   "execution_count": 1,
   "metadata": {},
   "outputs": [
    {
     "data": {
      "application/javascript": "\n            setTimeout(function() {\n                var nbb_cell_id = 1;\n                var nbb_unformatted_code = \"%load_ext nb_black\\n%load_ext autoreload\\n%autoreload 2\";\n                var nbb_formatted_code = \"%load_ext nb_black\\n%load_ext autoreload\\n%autoreload 2\";\n                var nbb_cells = Jupyter.notebook.get_cells();\n                for (var i = 0; i < nbb_cells.length; ++i) {\n                    if (nbb_cells[i].input_prompt_number == nbb_cell_id) {\n                        if (nbb_cells[i].get_text() == nbb_unformatted_code) {\n                             nbb_cells[i].set_text(nbb_formatted_code);\n                        }\n                        break;\n                    }\n                }\n            }, 500);\n            ",
      "text/plain": [
       "<IPython.core.display.Javascript object>"
      ]
     },
     "metadata": {},
     "output_type": "display_data"
    }
   ],
   "source": [
    "%load_ext nb_black\n",
    "%load_ext autoreload\n",
    "%autoreload 2"
   ]
  },
  {
   "cell_type": "markdown",
   "metadata": {},
   "source": [
    "## Import libraries\n"
   ]
  },
  {
   "cell_type": "code",
   "execution_count": 2,
   "metadata": {},
   "outputs": [
    {
     "name": "stderr",
     "output_type": "stream",
     "text": [
      "[nltk_data] Downloading package stopwords to\n",
      "[nltk_data]     /home/cvillafraz/nltk_data...\n",
      "[nltk_data]   Package stopwords is already up-to-date!\n"
     ]
    },
    {
     "data": {
      "text/plain": [
       "True"
      ]
     },
     "execution_count": 2,
     "metadata": {},
     "output_type": "execute_result"
    },
    {
     "data": {
      "application/javascript": "\n            setTimeout(function() {\n                var nbb_cell_id = 2;\n                var nbb_unformatted_code = \"import personal_linkedin_eda.utils.paths as path\\nimport personal_linkedin_eda.utils.preprocess as prep\\nimport pandas as pd\\nimport numpy as np\\nimport nltk\\n\\nnltk.download(\\\"stopwords\\\")\";\n                var nbb_formatted_code = \"import personal_linkedin_eda.utils.paths as path\\nimport personal_linkedin_eda.utils.preprocess as prep\\nimport pandas as pd\\nimport numpy as np\\nimport nltk\\n\\nnltk.download(\\\"stopwords\\\")\";\n                var nbb_cells = Jupyter.notebook.get_cells();\n                for (var i = 0; i < nbb_cells.length; ++i) {\n                    if (nbb_cells[i].input_prompt_number == nbb_cell_id) {\n                        if (nbb_cells[i].get_text() == nbb_unformatted_code) {\n                             nbb_cells[i].set_text(nbb_formatted_code);\n                        }\n                        break;\n                    }\n                }\n            }, 500);\n            ",
      "text/plain": [
       "<IPython.core.display.Javascript object>"
      ]
     },
     "metadata": {},
     "output_type": "display_data"
    }
   ],
   "source": [
    "import personal_linkedin_eda.utils.paths as path\n",
    "import personal_linkedin_eda.utils.preprocess as prep\n",
    "import pandas as pd\n",
    "import numpy as np\n",
    "import nltk\n",
    "\n",
    "nltk.download(\"stopwords\")"
   ]
  },
  {
   "cell_type": "markdown",
   "metadata": {},
   "source": [
    "## Load data and delete unnecessary columns\n"
   ]
  },
  {
   "cell_type": "code",
   "execution_count": 3,
   "metadata": {},
   "outputs": [
    {
     "data": {
      "application/javascript": "\n            setTimeout(function() {\n                var nbb_cell_id = 3;\n                var nbb_unformatted_code = \"df_certifications = pd.read_csv(path.data_raw_dir(\\\"Certifications.csv\\\"))\\ndf_connections = pd.read_csv(path.data_raw_dir(\\\"Connections.csv\\\"), header=2)\\ndf_messages = pd.read_csv(path.data_raw_dir(\\\"messages.csv\\\"))\\ndf_queries = pd.read_csv(path.data_raw_dir(\\\"SearchQueries.csv\\\"))\";\n                var nbb_formatted_code = \"df_certifications = pd.read_csv(path.data_raw_dir(\\\"Certifications.csv\\\"))\\ndf_connections = pd.read_csv(path.data_raw_dir(\\\"Connections.csv\\\"), header=2)\\ndf_messages = pd.read_csv(path.data_raw_dir(\\\"messages.csv\\\"))\\ndf_queries = pd.read_csv(path.data_raw_dir(\\\"SearchQueries.csv\\\"))\";\n                var nbb_cells = Jupyter.notebook.get_cells();\n                for (var i = 0; i < nbb_cells.length; ++i) {\n                    if (nbb_cells[i].input_prompt_number == nbb_cell_id) {\n                        if (nbb_cells[i].get_text() == nbb_unformatted_code) {\n                             nbb_cells[i].set_text(nbb_formatted_code);\n                        }\n                        break;\n                    }\n                }\n            }, 500);\n            ",
      "text/plain": [
       "<IPython.core.display.Javascript object>"
      ]
     },
     "metadata": {},
     "output_type": "display_data"
    }
   ],
   "source": [
    "df_certifications = pd.read_csv(path.data_raw_dir(\"Certifications.csv\"))\n",
    "df_connections = pd.read_csv(path.data_raw_dir(\"Connections.csv\"), header=2)\n",
    "df_messages = pd.read_csv(path.data_raw_dir(\"messages.csv\"))\n",
    "df_queries = pd.read_csv(path.data_raw_dir(\"SearchQueries.csv\"))"
   ]
  },
  {
   "cell_type": "code",
   "execution_count": 4,
   "metadata": {},
   "outputs": [
    {
     "name": "stdout",
     "output_type": "stream",
     "text": [
      "Certifications columns: Index(['Name', 'Url', 'Authority', 'Started On', 'Finished On',\n",
      "       'License Number'],\n",
      "      dtype='object')\n",
      "\n",
      "Connections columns: Index(['First Name', 'Last Name', 'Email Address', 'Company', 'Position',\n",
      "       'Connected On'],\n",
      "      dtype='object')\n",
      "\n",
      "Messages columns: Index(['CONVERSATION ID', 'CONVERSATION TITLE', 'FROM', 'SENDER PROFILE URL',\n",
      "       'TO', 'DATE', 'SUBJECT', 'CONTENT', 'FOLDER'],\n",
      "      dtype='object')\n",
      "\n",
      "Queries columns: Index(['Time', 'Search Query'], dtype='object')\n"
     ]
    },
    {
     "data": {
      "application/javascript": "\n            setTimeout(function() {\n                var nbb_cell_id = 4;\n                var nbb_unformatted_code = \"# Print all columns from each dataset\\nprint(f\\\"Certifications columns: {df_certifications.columns}\\\\n\\\")\\nprint(f\\\"Connections columns: {df_connections.columns}\\\\n\\\")\\nprint(f\\\"Messages columns: {df_messages.columns}\\\\n\\\")\\nprint(f\\\"Queries columns: {df_queries.columns}\\\")\";\n                var nbb_formatted_code = \"# Print all columns from each dataset\\nprint(f\\\"Certifications columns: {df_certifications.columns}\\\\n\\\")\\nprint(f\\\"Connections columns: {df_connections.columns}\\\\n\\\")\\nprint(f\\\"Messages columns: {df_messages.columns}\\\\n\\\")\\nprint(f\\\"Queries columns: {df_queries.columns}\\\")\";\n                var nbb_cells = Jupyter.notebook.get_cells();\n                for (var i = 0; i < nbb_cells.length; ++i) {\n                    if (nbb_cells[i].input_prompt_number == nbb_cell_id) {\n                        if (nbb_cells[i].get_text() == nbb_unformatted_code) {\n                             nbb_cells[i].set_text(nbb_formatted_code);\n                        }\n                        break;\n                    }\n                }\n            }, 500);\n            ",
      "text/plain": [
       "<IPython.core.display.Javascript object>"
      ]
     },
     "metadata": {},
     "output_type": "display_data"
    }
   ],
   "source": [
    "# Print all columns from each dataset\n",
    "print(f\"Certifications columns: {df_certifications.columns}\\n\")\n",
    "print(f\"Connections columns: {df_connections.columns}\\n\")\n",
    "print(f\"Messages columns: {df_messages.columns}\\n\")\n",
    "print(f\"Queries columns: {df_queries.columns}\")"
   ]
  },
  {
   "cell_type": "code",
   "execution_count": 4,
   "metadata": {},
   "outputs": [
    {
     "data": {
      "application/javascript": "\n            setTimeout(function() {\n                var nbb_cell_id = 4;\n                var nbb_unformatted_code = \"df_certifications.drop(columns=[\\\"Url\\\", \\\"License Number\\\"], inplace=True)\\ndf_connections.drop(columns=[\\\"First Name\\\", \\\"Last Name\\\", \\\"Email Address\\\"], inplace=True)\\ndf_messages.drop(\\n    columns=[\\\"SENDER PROFILE URL\\\", \\\"FOLDER\\\", \\\"CONVERSATION ID\\\"], inplace=True\\n)\";\n                var nbb_formatted_code = \"df_certifications.drop(columns=[\\\"Url\\\", \\\"License Number\\\"], inplace=True)\\ndf_connections.drop(columns=[\\\"First Name\\\", \\\"Last Name\\\", \\\"Email Address\\\"], inplace=True)\\ndf_messages.drop(\\n    columns=[\\\"SENDER PROFILE URL\\\", \\\"FOLDER\\\", \\\"CONVERSATION ID\\\"], inplace=True\\n)\";\n                var nbb_cells = Jupyter.notebook.get_cells();\n                for (var i = 0; i < nbb_cells.length; ++i) {\n                    if (nbb_cells[i].input_prompt_number == nbb_cell_id) {\n                        if (nbb_cells[i].get_text() == nbb_unformatted_code) {\n                             nbb_cells[i].set_text(nbb_formatted_code);\n                        }\n                        break;\n                    }\n                }\n            }, 500);\n            ",
      "text/plain": [
       "<IPython.core.display.Javascript object>"
      ]
     },
     "metadata": {},
     "output_type": "display_data"
    }
   ],
   "source": [
    "df_certifications.drop(columns=[\"Url\", \"License Number\"], inplace=True)\n",
    "df_connections.drop(columns=[\"First Name\", \"Last Name\", \"Email Address\"], inplace=True)\n",
    "df_messages.drop(\n",
    "    columns=[\"SENDER PROFILE URL\", \"FOLDER\", \"CONVERSATION ID\"], inplace=True\n",
    ")"
   ]
  },
  {
   "cell_type": "markdown",
   "metadata": {},
   "source": [
    "## Check the structure of the datasets\n"
   ]
  },
  {
   "cell_type": "code",
   "execution_count": 17,
   "metadata": {},
   "outputs": [
    {
     "data": {
      "text/html": [
       "<div>\n",
       "<style scoped>\n",
       "    .dataframe tbody tr th:only-of-type {\n",
       "        vertical-align: middle;\n",
       "    }\n",
       "\n",
       "    .dataframe tbody tr th {\n",
       "        vertical-align: top;\n",
       "    }\n",
       "\n",
       "    .dataframe thead th {\n",
       "        text-align: right;\n",
       "    }\n",
       "</style>\n",
       "<table border=\"1\" class=\"dataframe\">\n",
       "  <thead>\n",
       "    <tr style=\"text-align: right;\">\n",
       "      <th></th>\n",
       "      <th>Name</th>\n",
       "      <th>Authority</th>\n",
       "      <th>Started On</th>\n",
       "      <th>Finished On</th>\n",
       "    </tr>\n",
       "  </thead>\n",
       "  <tbody>\n",
       "    <tr>\n",
       "      <th>0</th>\n",
       "      <td>EF SET English Certificate Plus 73/100 (C2 Pro...</td>\n",
       "      <td>EF Standard English Test (EF SET)</td>\n",
       "      <td>Nov 2017</td>\n",
       "      <td>NaN</td>\n",
       "    </tr>\n",
       "    <tr>\n",
       "      <th>1</th>\n",
       "      <td>Digital Accessibility: Enabling Participation ...</td>\n",
       "      <td>University of Southampton</td>\n",
       "      <td>Feb 2018</td>\n",
       "      <td>NaN</td>\n",
       "    </tr>\n",
       "    <tr>\n",
       "      <th>2</th>\n",
       "      <td>Digital Skills:Digital Marketing</td>\n",
       "      <td>Accenture</td>\n",
       "      <td>Feb 2018</td>\n",
       "      <td>NaN</td>\n",
       "    </tr>\n",
       "    <tr>\n",
       "      <th>3</th>\n",
       "      <td>Google Analytics Individual Qualification</td>\n",
       "      <td>Google</td>\n",
       "      <td>May 2018</td>\n",
       "      <td>May 2019</td>\n",
       "    </tr>\n",
       "    <tr>\n",
       "      <th>4</th>\n",
       "      <td>Digital Skills: User Experience</td>\n",
       "      <td>Accenture</td>\n",
       "      <td>Sep 2018</td>\n",
       "      <td>NaN</td>\n",
       "    </tr>\n",
       "  </tbody>\n",
       "</table>\n",
       "</div>"
      ],
      "text/plain": [
       "                                                Name  \\\n",
       "0  EF SET English Certificate Plus 73/100 (C2 Pro...   \n",
       "1  Digital Accessibility: Enabling Participation ...   \n",
       "2                   Digital Skills:Digital Marketing   \n",
       "3          Google Analytics Individual Qualification   \n",
       "4                    Digital Skills: User Experience   \n",
       "\n",
       "                            Authority Started On Finished On  \n",
       "0  EF Standard English Test (EF SET)    Nov 2017         NaN  \n",
       "1           University of Southampton   Feb 2018         NaN  \n",
       "2                           Accenture   Feb 2018         NaN  \n",
       "3                              Google   May 2018    May 2019  \n",
       "4                           Accenture   Sep 2018         NaN  "
      ]
     },
     "execution_count": 17,
     "metadata": {},
     "output_type": "execute_result"
    }
   ],
   "source": [
    "df_certifications.head()"
   ]
  },
  {
   "cell_type": "code",
   "execution_count": 18,
   "metadata": {},
   "outputs": [
    {
     "data": {
      "text/html": [
       "<div>\n",
       "<style scoped>\n",
       "    .dataframe tbody tr th:only-of-type {\n",
       "        vertical-align: middle;\n",
       "    }\n",
       "\n",
       "    .dataframe tbody tr th {\n",
       "        vertical-align: top;\n",
       "    }\n",
       "\n",
       "    .dataframe thead th {\n",
       "        text-align: right;\n",
       "    }\n",
       "</style>\n",
       "<table border=\"1\" class=\"dataframe\">\n",
       "  <thead>\n",
       "    <tr style=\"text-align: right;\">\n",
       "      <th></th>\n",
       "      <th>Company</th>\n",
       "      <th>Position</th>\n",
       "      <th>Connected On</th>\n",
       "    </tr>\n",
       "  </thead>\n",
       "  <tbody>\n",
       "    <tr>\n",
       "      <th>0</th>\n",
       "      <td>ACALConecta</td>\n",
       "      <td>Desarrollo en Ciencia de datos</td>\n",
       "      <td>29 Jul 2021</td>\n",
       "    </tr>\n",
       "    <tr>\n",
       "      <th>1</th>\n",
       "      <td>Vest</td>\n",
       "      <td>Financial Content Creator</td>\n",
       "      <td>15 Jul 2021</td>\n",
       "    </tr>\n",
       "    <tr>\n",
       "      <th>2</th>\n",
       "      <td>Servicios Alo 24.</td>\n",
       "      <td>Analista de seguros</td>\n",
       "      <td>26 Jun 2021</td>\n",
       "    </tr>\n",
       "    <tr>\n",
       "      <th>3</th>\n",
       "      <td>Instituto de la Juventud de la Ciudad de México</td>\n",
       "      <td>Brigadista en Memorias de Tenochtitlan</td>\n",
       "      <td>26 Jun 2021</td>\n",
       "    </tr>\n",
       "    <tr>\n",
       "      <th>4</th>\n",
       "      <td>KD Importaciones</td>\n",
       "      <td>Responsable de operaciones</td>\n",
       "      <td>26 Jun 2021</td>\n",
       "    </tr>\n",
       "  </tbody>\n",
       "</table>\n",
       "</div>"
      ],
      "text/plain": [
       "                                           Company  \\\n",
       "0                                      ACALConecta   \n",
       "1                                             Vest   \n",
       "2                                Servicios Alo 24.   \n",
       "3  Instituto de la Juventud de la Ciudad de México   \n",
       "4                                 KD Importaciones   \n",
       "\n",
       "                                 Position Connected On  \n",
       "0          Desarrollo en Ciencia de datos  29 Jul 2021  \n",
       "1               Financial Content Creator  15 Jul 2021  \n",
       "2                     Analista de seguros  26 Jun 2021  \n",
       "3  Brigadista en Memorias de Tenochtitlan  26 Jun 2021  \n",
       "4              Responsable de operaciones  26 Jun 2021  "
      ]
     },
     "execution_count": 18,
     "metadata": {},
     "output_type": "execute_result"
    }
   ],
   "source": [
    "df_connections.head()"
   ]
  },
  {
   "cell_type": "code",
   "execution_count": 15,
   "metadata": {},
   "outputs": [
    {
     "data": {
      "text/html": [
       "<div>\n",
       "<style scoped>\n",
       "    .dataframe tbody tr th:only-of-type {\n",
       "        vertical-align: middle;\n",
       "    }\n",
       "\n",
       "    .dataframe tbody tr th {\n",
       "        vertical-align: top;\n",
       "    }\n",
       "\n",
       "    .dataframe thead th {\n",
       "        text-align: right;\n",
       "    }\n",
       "</style>\n",
       "<table border=\"1\" class=\"dataframe\">\n",
       "  <thead>\n",
       "    <tr style=\"text-align: right;\">\n",
       "      <th></th>\n",
       "      <th>CONVERSATION TITLE</th>\n",
       "      <th>FROM</th>\n",
       "      <th>TO</th>\n",
       "      <th>DATE</th>\n",
       "      <th>SUBJECT</th>\n",
       "      <th>CONTENT</th>\n",
       "    </tr>\n",
       "  </thead>\n",
       "  <tbody>\n",
       "    <tr>\n",
       "      <th>0</th>\n",
       "      <td>Entrevista en EDteam</td>\n",
       "      <td>Thiara Vásquez</td>\n",
       "      <td>LinkedIn Member</td>\n",
       "      <td>2021-11-23 17:58:49 UTC</td>\n",
       "      <td>Entrevista en EDteam</td>\n",
       "      <td>Hola Ciro, Ya hemos seleccionado a un candidat...</td>\n",
       "    </tr>\n",
       "    <tr>\n",
       "      <th>1</th>\n",
       "      <td>Entrevista en EDteam</td>\n",
       "      <td>LinkedIn Member</td>\n",
       "      <td>Thiara Vásquez</td>\n",
       "      <td>2021-11-16 18:19:22 UTC</td>\n",
       "      <td>Entrevista en EDteam</td>\n",
       "      <td>Hola Thiara, hay alguna actualización sobre el...</td>\n",
       "    </tr>\n",
       "    <tr>\n",
       "      <th>2</th>\n",
       "      <td>Entrevista en EDteam</td>\n",
       "      <td>LinkedIn Member</td>\n",
       "      <td>Thiara Vásquez</td>\n",
       "      <td>2021-11-08 18:05:56 UTC</td>\n",
       "      <td>Entrevista en EDteam</td>\n",
       "      <td>Que así sea</td>\n",
       "    </tr>\n",
       "    <tr>\n",
       "      <th>3</th>\n",
       "      <td>Entrevista en EDteam</td>\n",
       "      <td>Thiara Vásquez</td>\n",
       "      <td>LinkedIn Member</td>\n",
       "      <td>2021-11-08 18:05:02 UTC</td>\n",
       "      <td>NaN</td>\n",
       "      <td>Ahora lo agendo.  Nos vemos mañana 💪🏽😁</td>\n",
       "    </tr>\n",
       "    <tr>\n",
       "      <th>4</th>\n",
       "      <td>Entrevista en EDteam</td>\n",
       "      <td>LinkedIn Member</td>\n",
       "      <td>Thiara Vásquez</td>\n",
       "      <td>2021-11-08 17:45:32 UTC</td>\n",
       "      <td>Entrevista en EDteam</td>\n",
       "      <td>Esta bien</td>\n",
       "    </tr>\n",
       "  </tbody>\n",
       "</table>\n",
       "</div>"
      ],
      "text/plain": [
       "     CONVERSATION TITLE             FROM               TO  \\\n",
       "0  Entrevista en EDteam   Thiara Vásquez  LinkedIn Member   \n",
       "1  Entrevista en EDteam  LinkedIn Member   Thiara Vásquez   \n",
       "2  Entrevista en EDteam  LinkedIn Member   Thiara Vásquez   \n",
       "3  Entrevista en EDteam   Thiara Vásquez  LinkedIn Member   \n",
       "4  Entrevista en EDteam  LinkedIn Member   Thiara Vásquez   \n",
       "\n",
       "                      DATE               SUBJECT  \\\n",
       "0  2021-11-23 17:58:49 UTC  Entrevista en EDteam   \n",
       "1  2021-11-16 18:19:22 UTC  Entrevista en EDteam   \n",
       "2  2021-11-08 18:05:56 UTC  Entrevista en EDteam   \n",
       "3  2021-11-08 18:05:02 UTC                   NaN   \n",
       "4  2021-11-08 17:45:32 UTC  Entrevista en EDteam   \n",
       "\n",
       "                                             CONTENT  \n",
       "0  Hola Ciro, Ya hemos seleccionado a un candidat...  \n",
       "1  Hola Thiara, hay alguna actualización sobre el...  \n",
       "2                                        Que así sea  \n",
       "3             Ahora lo agendo.  Nos vemos mañana 💪🏽😁  \n",
       "4                                          Esta bien  "
      ]
     },
     "execution_count": 15,
     "metadata": {},
     "output_type": "execute_result"
    }
   ],
   "source": [
    "df_messages.head()"
   ]
  },
  {
   "cell_type": "code",
   "execution_count": 9,
   "metadata": {},
   "outputs": [
    {
     "data": {
      "text/html": [
       "<div>\n",
       "<style scoped>\n",
       "    .dataframe tbody tr th:only-of-type {\n",
       "        vertical-align: middle;\n",
       "    }\n",
       "\n",
       "    .dataframe tbody tr th {\n",
       "        vertical-align: top;\n",
       "    }\n",
       "\n",
       "    .dataframe thead th {\n",
       "        text-align: right;\n",
       "    }\n",
       "</style>\n",
       "<table border=\"1\" class=\"dataframe\">\n",
       "  <thead>\n",
       "    <tr style=\"text-align: right;\">\n",
       "      <th></th>\n",
       "      <th>Time</th>\n",
       "      <th>Search Query</th>\n",
       "    </tr>\n",
       "  </thead>\n",
       "  <tbody>\n",
       "    <tr>\n",
       "      <th>0</th>\n",
       "      <td>2020/05/18 02:53:37 UTC</td>\n",
       "      <td>The Soft Dev Team</td>\n",
       "    </tr>\n",
       "    <tr>\n",
       "      <th>1</th>\n",
       "      <td>2021/10/26 22:59:31 UTC</td>\n",
       "      <td>data analyst</td>\n",
       "    </tr>\n",
       "    <tr>\n",
       "      <th>2</th>\n",
       "      <td>2020/11/28 02:46:50 UTC</td>\n",
       "      <td>test automation</td>\n",
       "    </tr>\n",
       "    <tr>\n",
       "      <th>3</th>\n",
       "      <td>2021/10/22 22:36:02 UTC</td>\n",
       "      <td>data scientist</td>\n",
       "    </tr>\n",
       "    <tr>\n",
       "      <th>4</th>\n",
       "      <td>2020/11/28 02:47:02 UTC</td>\n",
       "      <td>test automation</td>\n",
       "    </tr>\n",
       "  </tbody>\n",
       "</table>\n",
       "</div>"
      ],
      "text/plain": [
       "                      Time       Search Query\n",
       "0  2020/05/18 02:53:37 UTC  The Soft Dev Team\n",
       "1  2021/10/26 22:59:31 UTC       data analyst\n",
       "2  2020/11/28 02:46:50 UTC    test automation\n",
       "3  2021/10/22 22:36:02 UTC     data scientist\n",
       "4  2020/11/28 02:47:02 UTC    test automation"
      ]
     },
     "execution_count": 9,
     "metadata": {},
     "output_type": "execute_result"
    }
   ],
   "source": [
    "df_queries.head()"
   ]
  },
  {
   "cell_type": "markdown",
   "metadata": {},
   "source": [
    "## Remove unnecessary/null values\n"
   ]
  },
  {
   "cell_type": "code",
   "execution_count": 6,
   "metadata": {},
   "outputs": [
    {
     "name": "stdout",
     "output_type": "stream",
     "text": [
      "Certifications null values:\n",
      " Name            0\n",
      "Authority       0\n",
      "Started On      0\n",
      "Finished On    27\n",
      "dtype: int64\n",
      "\n",
      "Connections null values:\n",
      " Company         4\n",
      "Position        4\n",
      "Connected On    0\n",
      "dtype: int64\n",
      "\n",
      "Messages null values:\n",
      " CONVERSATION TITLE    184\n",
      "FROM                    3\n",
      "TO                      3\n",
      "DATE                    0\n",
      "SUBJECT               184\n",
      "CONTENT                 3\n",
      "dtype: int64\n",
      "\n",
      "Queries null values:\n",
      " Time            0\n",
      "Search Query    0\n",
      "dtype: int64\n",
      "\n"
     ]
    },
    {
     "data": {
      "application/javascript": "\n            setTimeout(function() {\n                var nbb_cell_id = 6;\n                var nbb_unformatted_code = \"print(f\\\"Certifications null values:\\\\n {df_certifications.isna().sum()}\\\\n\\\")\\nprint(f\\\"Connections null values:\\\\n {df_connections.isna().sum()}\\\\n\\\")\\nprint(f\\\"Messages null values:\\\\n {df_messages.isna().sum()}\\\\n\\\")\\nprint(f\\\"Queries null values:\\\\n {df_queries.isna().sum()}\\\\n\\\")\";\n                var nbb_formatted_code = \"print(f\\\"Certifications null values:\\\\n {df_certifications.isna().sum()}\\\\n\\\")\\nprint(f\\\"Connections null values:\\\\n {df_connections.isna().sum()}\\\\n\\\")\\nprint(f\\\"Messages null values:\\\\n {df_messages.isna().sum()}\\\\n\\\")\\nprint(f\\\"Queries null values:\\\\n {df_queries.isna().sum()}\\\\n\\\")\";\n                var nbb_cells = Jupyter.notebook.get_cells();\n                for (var i = 0; i < nbb_cells.length; ++i) {\n                    if (nbb_cells[i].input_prompt_number == nbb_cell_id) {\n                        if (nbb_cells[i].get_text() == nbb_unformatted_code) {\n                             nbb_cells[i].set_text(nbb_formatted_code);\n                        }\n                        break;\n                    }\n                }\n            }, 500);\n            ",
      "text/plain": [
       "<IPython.core.display.Javascript object>"
      ]
     },
     "metadata": {},
     "output_type": "display_data"
    }
   ],
   "source": [
    "print(f\"Certifications null values:\\n {df_certifications.isna().sum()}\\n\")\n",
    "print(f\"Connections null values:\\n {df_connections.isna().sum()}\\n\")\n",
    "print(f\"Messages null values:\\n {df_messages.isna().sum()}\\n\")\n",
    "print(f\"Queries null values:\\n {df_queries.isna().sum()}\\n\")"
   ]
  },
  {
   "cell_type": "code",
   "execution_count": 5,
   "metadata": {},
   "outputs": [
    {
     "data": {
      "application/javascript": "\n            setTimeout(function() {\n                var nbb_cell_id = 5;\n                var nbb_unformatted_code = \"df_connections.dropna(inplace=True)\\ndf_messages.dropna(inplace=True, subset=[\\\"CONTENT\\\"])\\n### Remove promo messages from LinkedIn itself\\ndf_messages = df_messages[\\n    ~df_messages[\\\"FROM\\\"].str.contains(\\\"from linkedin|linkedin premium\\\", case=False)\\n]\";\n                var nbb_formatted_code = \"df_connections.dropna(inplace=True)\\ndf_messages.dropna(inplace=True, subset=[\\\"CONTENT\\\"])\\n### Remove promo messages from LinkedIn itself\\ndf_messages = df_messages[\\n    ~df_messages[\\\"FROM\\\"].str.contains(\\\"from linkedin|linkedin premium\\\", case=False)\\n]\";\n                var nbb_cells = Jupyter.notebook.get_cells();\n                for (var i = 0; i < nbb_cells.length; ++i) {\n                    if (nbb_cells[i].input_prompt_number == nbb_cell_id) {\n                        if (nbb_cells[i].get_text() == nbb_unformatted_code) {\n                             nbb_cells[i].set_text(nbb_formatted_code);\n                        }\n                        break;\n                    }\n                }\n            }, 500);\n            ",
      "text/plain": [
       "<IPython.core.display.Javascript object>"
      ]
     },
     "metadata": {},
     "output_type": "display_data"
    }
   ],
   "source": [
    "df_connections.dropna(inplace=True)\n",
    "df_messages.dropna(inplace=True, subset=[\"CONTENT\"])\n",
    "### Remove promo messages from LinkedIn itself\n",
    "df_messages = df_messages[\n",
    "    ~df_messages[\"FROM\"].str.contains(\"from linkedin|linkedin premium\", case=False)\n",
    "]"
   ]
  },
  {
   "cell_type": "markdown",
   "metadata": {},
   "source": [
    "## Text preprocessing\n"
   ]
  },
  {
   "cell_type": "markdown",
   "metadata": {},
   "source": [
    "### Normalize common position names\n"
   ]
  },
  {
   "cell_type": "code",
   "execution_count": 6,
   "metadata": {},
   "outputs": [
    {
     "data": {
      "application/javascript": "\n            setTimeout(function() {\n                var nbb_cell_id = 6;\n                var nbb_unformatted_code = \"position_patterns = [\\n    (\\n        df_connections[\\\"Position\\\"].str.contains(\\\"Full Stack|Web Developer\\\", case=False),\\n        \\\"Full Stack Developer\\\",\\n    ),\\n    (\\n        df_connections[\\\"Position\\\"].str.contains(\\n            \\\"Frontend|Front End|Front-end\\\", case=False\\n        ),\\n        \\\"Front-end Developer\\\",\\n    ),\\n    (\\n        df_connections[\\\"Position\\\"].str.contains(\\n            \\\"Backend|Back-end|Software\\\", case=False\\n        ),\\n        \\\"Software Engineer\\\",\\n    ),\\n    (\\n        df_connections[\\\"Position\\\"].str.contains(\\n            \\\"Ciencia de datos|Data Scientist\\\", case=False\\n        ),\\n        \\\"Data Scientist\\\",\\n    ),\\n    (\\n        df_connections[\\\"Position\\\"].str.contains(\\n            \\\"CEO|Chief Executive Officer|Business Owner\\\", case=False\\n        ),\\n        \\\"CEO\\\",\\n    ),\\n    (\\n        df_connections[\\\"Position\\\"].str.contains(\\\"Founder\\\", regex=False, case=False),\\n        \\\"Founder\\\",\\n    ),\\n]\";\n                var nbb_formatted_code = \"position_patterns = [\\n    (\\n        df_connections[\\\"Position\\\"].str.contains(\\\"Full Stack|Web Developer\\\", case=False),\\n        \\\"Full Stack Developer\\\",\\n    ),\\n    (\\n        df_connections[\\\"Position\\\"].str.contains(\\n            \\\"Frontend|Front End|Front-end\\\", case=False\\n        ),\\n        \\\"Front-end Developer\\\",\\n    ),\\n    (\\n        df_connections[\\\"Position\\\"].str.contains(\\n            \\\"Backend|Back-end|Software\\\", case=False\\n        ),\\n        \\\"Software Engineer\\\",\\n    ),\\n    (\\n        df_connections[\\\"Position\\\"].str.contains(\\n            \\\"Ciencia de datos|Data Scientist\\\", case=False\\n        ),\\n        \\\"Data Scientist\\\",\\n    ),\\n    (\\n        df_connections[\\\"Position\\\"].str.contains(\\n            \\\"CEO|Chief Executive Officer|Business Owner\\\", case=False\\n        ),\\n        \\\"CEO\\\",\\n    ),\\n    (\\n        df_connections[\\\"Position\\\"].str.contains(\\\"Founder\\\", regex=False, case=False),\\n        \\\"Founder\\\",\\n    ),\\n]\";\n                var nbb_cells = Jupyter.notebook.get_cells();\n                for (var i = 0; i < nbb_cells.length; ++i) {\n                    if (nbb_cells[i].input_prompt_number == nbb_cell_id) {\n                        if (nbb_cells[i].get_text() == nbb_unformatted_code) {\n                             nbb_cells[i].set_text(nbb_formatted_code);\n                        }\n                        break;\n                    }\n                }\n            }, 500);\n            ",
      "text/plain": [
       "<IPython.core.display.Javascript object>"
      ]
     },
     "metadata": {},
     "output_type": "display_data"
    }
   ],
   "source": [
    "position_patterns = [\n",
    "    (\n",
    "        df_connections[\"Position\"].str.contains(\"Full Stack|Web Developer\", case=False),\n",
    "        \"Full Stack Developer\",\n",
    "    ),\n",
    "    (\n",
    "        df_connections[\"Position\"].str.contains(\n",
    "            \"Frontend|Front End|Front-end\", case=False\n",
    "        ),\n",
    "        \"Front-end Developer\",\n",
    "    ),\n",
    "    (\n",
    "        df_connections[\"Position\"].str.contains(\n",
    "            \"Backend|Back-end|Software\", case=False\n",
    "        ),\n",
    "        \"Software Engineer\",\n",
    "    ),\n",
    "    (\n",
    "        df_connections[\"Position\"].str.contains(\n",
    "            \"Ciencia de datos|Data Scientist\", case=False\n",
    "        ),\n",
    "        \"Data Scientist\",\n",
    "    ),\n",
    "    (\n",
    "        df_connections[\"Position\"].str.contains(\n",
    "            \"CEO|Chief Executive Officer|Business Owner\", case=False\n",
    "        ),\n",
    "        \"CEO\",\n",
    "    ),\n",
    "    (\n",
    "        df_connections[\"Position\"].str.contains(\"Founder\", regex=False, case=False),\n",
    "        \"Founder\",\n",
    "    ),\n",
    "]"
   ]
  },
  {
   "cell_type": "code",
   "execution_count": 7,
   "metadata": {},
   "outputs": [
    {
     "data": {
      "application/javascript": "\n            setTimeout(function() {\n                var nbb_cell_id = 7;\n                var nbb_unformatted_code = \"position_criteria, position_values = zip(*position_patterns)\\ndf_connections[\\\"Position Normalized\\\"] = np.select(\\n    position_criteria, position_values, None\\n)\\n# Replace \\\"None\\\" values with original position\\ndf_connections[\\\"Position Normalized\\\"] = df_connections[\\n    \\\"Position Normalized\\\"\\n].combine_first(df_connections[\\\"Position\\\"])\";\n                var nbb_formatted_code = \"position_criteria, position_values = zip(*position_patterns)\\ndf_connections[\\\"Position Normalized\\\"] = np.select(\\n    position_criteria, position_values, None\\n)\\n# Replace \\\"None\\\" values with original position\\ndf_connections[\\\"Position Normalized\\\"] = df_connections[\\n    \\\"Position Normalized\\\"\\n].combine_first(df_connections[\\\"Position\\\"])\";\n                var nbb_cells = Jupyter.notebook.get_cells();\n                for (var i = 0; i < nbb_cells.length; ++i) {\n                    if (nbb_cells[i].input_prompt_number == nbb_cell_id) {\n                        if (nbb_cells[i].get_text() == nbb_unformatted_code) {\n                             nbb_cells[i].set_text(nbb_formatted_code);\n                        }\n                        break;\n                    }\n                }\n            }, 500);\n            ",
      "text/plain": [
       "<IPython.core.display.Javascript object>"
      ]
     },
     "metadata": {},
     "output_type": "display_data"
    }
   ],
   "source": [
    "position_criteria, position_values = zip(*position_patterns)\n",
    "df_connections[\"Position Normalized\"] = np.select(\n",
    "    position_criteria, position_values, None\n",
    ")\n",
    "# Replace \"None\" values with original position\n",
    "df_connections[\"Position Normalized\"] = df_connections[\n",
    "    \"Position Normalized\"\n",
    "].combine_first(df_connections[\"Position\"])"
   ]
  },
  {
   "cell_type": "markdown",
   "metadata": {},
   "source": [
    "### Remove stopwords and normalize messages and search queries\n"
   ]
  },
  {
   "cell_type": "code",
   "execution_count": 13,
   "metadata": {},
   "outputs": [
    {
     "data": {
      "application/javascript": "\n            setTimeout(function() {\n                var nbb_cell_id = 13;\n                var nbb_unformatted_code = \"remove_stopwords = prep.remove_stopwords\\nnormalize_text = prep.normalize_text\\ndf_messages[\\\"CONTENT\\\"] = df_messages[\\\"CONTENT\\\"].apply(\\n    lambda str: remove_stopwords(normalize_text(str))\\n)\\ndf_messages[\\\"SUBJECT\\\"] = df_messages[\\\"SUBJECT\\\"].apply(\\n    lambda string: remove_stopwords(normalize_text(string)) if isinstance(string, str) else None\\n)\\ndf_queries[\\\"Search Query\\\"] = df_queries[\\\"Search Query\\\"].apply(\\n    lambda str: normalize_text(str)\\n)\";\n                var nbb_formatted_code = \"remove_stopwords = prep.remove_stopwords\\nnormalize_text = prep.normalize_text\\ndf_messages[\\\"CONTENT\\\"] = df_messages[\\\"CONTENT\\\"].apply(\\n    lambda str: remove_stopwords(normalize_text(str))\\n)\\ndf_messages[\\\"SUBJECT\\\"] = df_messages[\\\"SUBJECT\\\"].apply(\\n    lambda string: remove_stopwords(normalize_text(string))\\n    if isinstance(string, str)\\n    else None\\n)\\ndf_queries[\\\"Search Query\\\"] = df_queries[\\\"Search Query\\\"].apply(\\n    lambda str: normalize_text(str)\\n)\";\n                var nbb_cells = Jupyter.notebook.get_cells();\n                for (var i = 0; i < nbb_cells.length; ++i) {\n                    if (nbb_cells[i].input_prompt_number == nbb_cell_id) {\n                        if (nbb_cells[i].get_text() == nbb_unformatted_code) {\n                             nbb_cells[i].set_text(nbb_formatted_code);\n                        }\n                        break;\n                    }\n                }\n            }, 500);\n            ",
      "text/plain": [
       "<IPython.core.display.Javascript object>"
      ]
     },
     "metadata": {},
     "output_type": "display_data"
    }
   ],
   "source": [
    "remove_stopwords = prep.remove_stopwords\n",
    "normalize_text = prep.normalize_text\n",
    "df_messages[\"CONTENT\"] = df_messages[\"CONTENT\"].apply(\n",
    "    lambda str: remove_stopwords(normalize_text(str))\n",
    ")\n",
    "df_messages[\"SUBJECT\"] = df_messages[\"SUBJECT\"].apply(\n",
    "    lambda string: remove_stopwords(normalize_text(string)) if isinstance(string, str) else None\n",
    ")\n",
    "df_queries[\"Search Query\"] = df_queries[\"Search Query\"].apply(\n",
    "    lambda str: normalize_text(str)\n",
    ")"
   ]
  },
  {
   "cell_type": "markdown",
   "metadata": {},
   "source": [
    "## Save data\n"
   ]
  },
  {
   "cell_type": "code",
   "execution_count": 14,
   "metadata": {},
   "outputs": [
    {
     "data": {
      "application/javascript": "\n            setTimeout(function() {\n                var nbb_cell_id = 14;\n                var nbb_unformatted_code = \"df_certifications.to_csv(path.data_processed_dir(\\\"certifications_clean.csv\\\"))\\ndf_connections.to_csv(path.data_processed_dir(\\\"connections_clean.csv\\\"))\\ndf_messages.to_csv(path.data_processed_dir(\\\"messages_clean.csv\\\"))\\ndf_queries.to_csv(path.data_processed_dir(\\\"queries_clean.csv\\\"))\";\n                var nbb_formatted_code = \"df_certifications.to_csv(path.data_processed_dir(\\\"certifications_clean.csv\\\"))\\ndf_connections.to_csv(path.data_processed_dir(\\\"connections_clean.csv\\\"))\\ndf_messages.to_csv(path.data_processed_dir(\\\"messages_clean.csv\\\"))\\ndf_queries.to_csv(path.data_processed_dir(\\\"queries_clean.csv\\\"))\";\n                var nbb_cells = Jupyter.notebook.get_cells();\n                for (var i = 0; i < nbb_cells.length; ++i) {\n                    if (nbb_cells[i].input_prompt_number == nbb_cell_id) {\n                        if (nbb_cells[i].get_text() == nbb_unformatted_code) {\n                             nbb_cells[i].set_text(nbb_formatted_code);\n                        }\n                        break;\n                    }\n                }\n            }, 500);\n            ",
      "text/plain": [
       "<IPython.core.display.Javascript object>"
      ]
     },
     "metadata": {},
     "output_type": "display_data"
    }
   ],
   "source": [
    "df_certifications.to_csv(path.data_processed_dir(\"certifications_clean.csv\"))\n",
    "df_connections.to_csv(path.data_processed_dir(\"connections_clean.csv\"))\n",
    "df_messages.to_csv(path.data_processed_dir(\"messages_clean.csv\"))\n",
    "df_queries.to_csv(path.data_processed_dir(\"queries_clean.csv\"))"
   ]
  }
 ],
 "metadata": {
  "interpreter": {
   "hash": "201feb5f3ca1aafc234903fbc552391d9c43f58514579f06f7e910e2bce34bd2"
  },
  "kernelspec": {
   "display_name": "Python 3.8.6 64-bit ('personal_linkedin_eda': conda)",
   "language": "python",
   "name": "python3"
  },
  "language_info": {
   "codemirror_mode": {
    "name": "ipython",
    "version": 3
   },
   "file_extension": ".py",
   "mimetype": "text/x-python",
   "name": "python",
   "nbconvert_exporter": "python",
   "pygments_lexer": "ipython3",
   "version": "3.8.6"
  },
  "orig_nbformat": 4
 },
 "nbformat": 4,
 "nbformat_minor": 2
}
